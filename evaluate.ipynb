{
 "nbformat": 4,
 "nbformat_minor": 0,
 "metadata": {
  "colab": {
   "provenance": [],
   "collapsed_sections": [
    "xD60F8d5Ck8c",
    "PxQyEf1mColh",
    "wEUaweUtFFAB",
    "CZG02sh5FUhI",
    "WAKqDEfEGQPo"
   ]
  },
  "kernelspec": {
   "name": "python3",
   "display_name": "Python 3"
  },
  "language_info": {
   "name": "python"
  },
  "accelerator": "GPU"
 },
 "cells": [
  {
   "cell_type": "code",
   "source": [
    "!pip install matplotlib==3.5.2"
   ],
   "metadata": {
    "id": "6SNO0_xHE8IP",
    "pycharm": {
     "name": "#%%\n"
    }
   },
   "execution_count": null,
   "outputs": []
  },
  {
   "cell_type": "code",
   "source": [
    "import pandas as pd\n",
    "import numpy as np\n",
    "import seaborn as sns\n",
    "\n",
    "from matplotlib import pyplot as plt\n",
    "plt.style.use('seaborn-whitegrid')\n",
    "\n",
    "from sklearn.metrics import accuracy_score, confusion_matrix, classification_report\n",
    "from sklearn.metrics import roc_curve, precision_recall_curve, auc\n",
    "from sklearn.model_selection import KFold\n",
    "from sklearn.metrics import mean_squared_error\n",
    "from sklearn.linear_model import LogisticRegression"
   ],
   "metadata": {
    "id": "LIRCiEJcAHGZ",
    "pycharm": {
     "name": "#%%\n"
    }
   },
   "execution_count": null,
   "outputs": []
  },
  {
   "cell_type": "code",
   "source": [
    "y_test = pd.read_csv('data/test.tsv', sep='\\t',\n",
    "                     usecols=['label'])['label'].values\n",
    "\n",
    "y_train = pd.read_csv('data/train.tsv', sep='\\t',\n",
    "                      usecols=['label'])['label'].values\n",
    "\n",
    "y_dev = pd.read_csv('data/dev.tsv', sep='\\t',\n",
    "                    usecols=['label'])['label'].values"
   ],
   "metadata": {
    "id": "g2KD83f8AYNg",
    "pycharm": {
     "name": "#%%\n"
    }
   },
   "execution_count": null,
   "outputs": []
  },
  {
   "cell_type": "code",
   "source": [
    "X_test = pd.read_csv('data/features/test.csv', nrows=1)\n",
    "X_test.columns"
   ],
   "metadata": {
    "id": "Hslo3wiEBu6o",
    "colab": {
     "base_uri": "https://localhost:8080/"
    },
    "outputId": "4d8b2f29-1a23-4b21-c8ff-e2dc15e2d160",
    "pycharm": {
     "name": "#%%\n"
    }
   },
   "execution_count": null,
   "outputs": [
    {
     "output_type": "execute_result",
     "data": {
      "text/plain": [
       "Index(['bert_cosine_distance', 'prediction_seamese_bert', '3_grams_jaccard',\n",
       "       '2_grams_jaccard', '4_grams_jaccard', 'predictions_raw', 'predictions',\n",
       "       'shortest_path_distance', 'wup_similarity', 'wm_distance'],\n",
       "      dtype='object')"
      ]
     },
     "metadata": {},
     "execution_count": 3
    }
   ]
  },
  {
   "cell_type": "markdown",
   "source": [
    "# Get model"
   ],
   "metadata": {
    "id": "xD60F8d5Ck8c",
    "pycharm": {
     "name": "#%% md\n"
    }
   }
  },
  {
   "cell_type": "code",
   "source": [
    "def get_log_regr(usecols):\n",
    "  X_test = pd.read_csv('data/features/test.csv', usecols=usecols)\n",
    "  X_train = pd.read_csv('data/features/train.csv', usecols=usecols)\n",
    "  X_dev = pd.read_csv('data/features/dev.csv', usecols=usecols)\n",
    "  X_train.replace(np.inf, 10, inplace=True)\n",
    "  X_test.replace(np.inf, 10, inplace=True)\n",
    "  X_dev.replace(np.inf, 10, inplace=True)\n",
    "\n",
    "  model = LogisticRegression(max_iter=1000)  # XGBClassifier(**best_params)\n",
    "  # fit the model\n",
    "  model.fit(X_train, y_train)\n",
    "\n",
    "  y_pred_test = model.predict(X_test)\n",
    "  y_pred_dev = model.predict(X_dev)\n",
    "\n",
    "  y_proba_test = model.predict_proba(X_test)[:, 1]\n",
    "  y_proba_dev = model.predict_proba(X_dev)[:, 1]\n",
    "\n",
    "  print(accuracy_score(y_test, y_pred_test))\n",
    "  print(accuracy_score(y_dev, y_pred_dev))\n",
    "\n",
    "  # importance = model.coef_[0]\n",
    "\n",
    "  return model, y_pred_test, y_pred_dev, X_test, X_dev, X_train"
   ],
   "metadata": {
    "id": "awGjVfACAQgv",
    "pycharm": {
     "name": "#%%\n"
    }
   },
   "execution_count": null,
   "outputs": []
  },
  {
   "cell_type": "code",
   "source": [
    "feature_names = ['Cosine dist', 'Siamese NN', '3-grams', '2-grams', '4-grams',\n",
    "                'RoBERTa predictions raw', 'RoBERTa predictions binary',\n",
    "                'WordNet shortest path', 'WordNet Wu and Palmer', 'Word Mover\\'s Distance']\n",
    "\n",
    "usecols = ['bert_cosine_distance', 'prediction_seamese_bert', '3_grams_jaccard',\n",
    "          '2_grams_jaccard', '4_grams_jaccard', 'predictions_raw', 'predictions',\n",
    "          'shortest_path_distance', 'wup_similarity', 'wm_distance']\n",
    "\n",
    "model, y_pred_test, y_pred_dev, X_test, X_dev, X_train = get_log_regr(usecols)"
   ],
   "metadata": {
    "colab": {
     "base_uri": "https://localhost:8080/"
    },
    "id": "C3V-R-BdBNdD",
    "outputId": "d179084c-0db2-4d8b-a8b5-572f913930de",
    "pycharm": {
     "name": "#%%\n"
    }
   },
   "execution_count": null,
   "outputs": [
    {
     "output_type": "stream",
     "name": "stdout",
     "text": [
      "0.924625\n",
      "0.937125\n"
     ]
    }
   ]
  },
  {
   "cell_type": "markdown",
   "source": [
    "# Functions"
   ],
   "metadata": {
    "id": "PxQyEf1mColh",
    "pycharm": {
     "name": "#%% md\n"
    }
   }
  },
  {
   "cell_type": "markdown",
   "source": [
    "### ROC curve"
   ],
   "metadata": {
    "id": "wEUaweUtFFAB",
    "pycharm": {
     "name": "#%% md\n"
    }
   }
  },
  {
   "cell_type": "code",
   "source": [
    "def roc_auc(X, y):  \n",
    "  fig, (ax1, ax2) = plt.subplots(1, 2, figsize=(14, 6))\n",
    "  y_probabilities = model.predict_proba(X)[:, 1]\n",
    "\n",
    "\n",
    "  fpr, tpr, thr_roc = roc_curve(y, y_probabilities)\n",
    "  auc_roc = auc(fpr, tpr)\n",
    "\n",
    "  precision, recall, thr_pr = precision_recall_curve(y, y_probabilities)\n",
    "  auc_pr = auc(recall, precision)\n",
    "\n",
    "  ax1.plot(fpr, tpr,\n",
    "          label=f'AUC = {auc_roc*100:.2f}%',\n",
    "          linewidth=3)\n",
    "\n",
    "  ax2.plot(recall, precision,\n",
    "          label=f'AUC = {auc_pr*100:.2f}%',\n",
    "          linewidth=2, color='darkblue')\n",
    "\n",
    "\n",
    "  ax1.set_xlabel('False Positive Rate')\n",
    "  ax1.set_ylabel('True Positive Rate')\n",
    "  ax1.set_title('ROC-curve')\n",
    "  ax1.legend()\n",
    "  ax1.grid(visible=True)\n",
    "\n",
    "  ax2.legend()\n",
    "  ax2.set_xlabel('Recall')\n",
    "  ax2.set_ylabel('Precision')\n",
    "  ax2.set_title('Recall-Precision curve')\n",
    "  ax2.grid(visible=True)\n",
    "\n",
    "  plt.show()"
   ],
   "metadata": {
    "id": "fyjBPoXWCsBe",
    "pycharm": {
     "name": "#%%\n"
    }
   },
   "execution_count": null,
   "outputs": []
  },
  {
   "cell_type": "markdown",
   "source": [
    "### Feature importance"
   ],
   "metadata": {
    "id": "CZG02sh5FUhI",
    "pycharm": {
     "name": "#%% md\n"
    }
   }
  },
  {
   "cell_type": "code",
   "source": [
    "def feature_importance(model):\n",
    "  # get importance\n",
    "  importance = model.coef_[0]  # feature_importances\n",
    "\n",
    "  plt.figure(figsize=(8,6))\n",
    "  # plot feature importance\n",
    "  ax = sns.barplot(x=importance, y=X_train.columns.values, orient='h',\n",
    "                  palette='rocket')\n",
    "  ax.bar_label(ax.containers[0], fmt='%.2f')\n",
    "  ax.set_xlim(right=14, left=-5)\n",
    "  plt.yticks(range(len(importance)), feature_names)\n",
    "  plt.show()\n"
   ],
   "metadata": {
    "id": "wWxQ8W82FY2j",
    "pycharm": {
     "name": "#%%\n"
    }
   },
   "execution_count": null,
   "outputs": []
  },
  {
   "cell_type": "markdown",
   "source": [
    "### Confusion matrix"
   ],
   "metadata": {
    "id": "WAKqDEfEGQPo",
    "pycharm": {
     "name": "#%% md\n"
    }
   }
  },
  {
   "cell_type": "code",
   "source": [
    "def confusion(y_true, y_pred):  \n",
    "  cf_matrix = confusion_matrix(y_true, y_pred)\n",
    "\n",
    "  group_names = ['True Neg','False Pos','False Neg','True Pos']\n",
    "  group_counts = ['{0:0.0f}'.format(value) for value in cf_matrix.flatten()]\n",
    "  group_percentages = ['{0:.2%}'.format(value) for value in cf_matrix.flatten()/np.sum(cf_matrix)]\n",
    "  labels = [f'{v1}\\n\\n{v2}\\n\\n{v3}' for v1, v2, v3 in zip(group_names,group_counts, group_percentages)]\n",
    "  labels = np.asarray(labels).reshape(2,2)\n",
    "  sns.heatmap(cf_matrix, annot=labels, fmt='', cmap='rocket')"
   ],
   "metadata": {
    "id": "E41PGN05F5Tw",
    "pycharm": {
     "name": "#%%\n"
    }
   },
   "execution_count": null,
   "outputs": []
  },
  {
   "cell_type": "markdown",
   "source": [
    "# Without BERT predictions"
   ],
   "metadata": {
    "id": "OkRxnH6dCNle",
    "pycharm": {
     "name": "#%% md\n"
    }
   }
  },
  {
   "cell_type": "code",
   "source": [
    "feature_names = [\n",
    "                #  'Cosine dist', \n",
    "                #  'Siamese NN', \n",
    "                # '3-grams', \n",
    "                #  '2-grams', '4-grams',\n",
    "                # 'RoBERTa predictions raw', 'RoBERTa predictions binary',\n",
    "                # 'WordNet shortest path', 'WordNet Wu and Palmer', \n",
    "                 'Word Mover\\'s Distance'\n",
    "                 ]\n",
    "\n",
    "usecols = [\n",
    "          'bert_cosine_distance', \n",
    "          'prediction_seamese_bert', \n",
    "          '3_grams_jaccard',\n",
    "          '2_grams_jaccard', \n",
    "          '4_grams_jaccard', \n",
    "          'predictions_raw', 'predictions',\n",
    "          'shortest_path_distance', 'wup_similarity', \n",
    "          'wm_distance'\n",
    "           ]\n",
    "          \n",
    "model, y_pred_test, y_pred_dev, X_test, X_dev, X_train = get_log_regr(usecols)"
   ],
   "metadata": {
    "colab": {
     "base_uri": "https://localhost:8080/"
    },
    "id": "ReGLhtijCTXc",
    "outputId": "2e38d391-175e-4346-f48b-4d00bcc315e8",
    "pycharm": {
     "name": "#%%\n"
    }
   },
   "execution_count": null,
   "outputs": [
    {
     "output_type": "stream",
     "name": "stdout",
     "text": [
      "0.924625\n",
      "0.937125\n"
     ]
    }
   ]
  },
  {
   "cell_type": "code",
   "source": [
    "accuracy_score(y_test, X_test['predictions'])"
   ],
   "metadata": {
    "colab": {
     "base_uri": "https://localhost:8080/"
    },
    "id": "5MMZJwDh1dU8",
    "outputId": "34eeaf2c-5c54-4094-b808-e0dfc4a68690",
    "pycharm": {
     "name": "#%%\n"
    }
   },
   "execution_count": null,
   "outputs": [
    {
     "output_type": "execute_result",
     "data": {
      "text/plain": [
       "0.919625"
      ]
     },
     "metadata": {},
     "execution_count": 59
    }
   ]
  },
  {
   "cell_type": "code",
   "source": [
    "fig, (ax1, ax2) = plt.subplots(1, 2, figsize=(14, 6))\n",
    "y_probabilities = X_test['predictions_raw']\n",
    "\n",
    "\n",
    "fpr, tpr, thr_roc = roc_curve(y_test, y_probabilities)\n",
    "auc_roc = auc(fpr, tpr)\n",
    "\n",
    "precision, recall, thr_pr = precision_recall_curve(y_test, y_probabilities)\n",
    "auc_pr = auc(recall, precision)\n",
    "\n",
    "ax1.plot(fpr, tpr,\n",
    "          label=f'AUC = {auc_roc*100:.2f}%',\n",
    "          linewidth=3)\n",
    "\n",
    "ax2.plot(recall, precision,\n",
    "          label=f'AUC = {auc_pr*100:.2f}%',\n",
    "          linewidth=2, color='darkblue')\n",
    "\n",
    "\n",
    "ax1.set_xlabel('False Positive Rate')\n",
    "ax1.set_ylabel('True Positive Rate')\n",
    "ax1.set_title('ROC-curve')\n",
    "ax1.legend()\n",
    "ax1.grid(visible=True)\n",
    "\n",
    "ax2.legend()\n",
    "ax2.set_xlabel('Recall')\n",
    "ax2.set_ylabel('Precision')\n",
    "ax2.set_title('Recall-Precision curve')\n",
    "ax2.grid(visible=True)\n",
    "\n",
    "plt.show()"
   ],
   "metadata": {
    "colab": {
     "base_uri": "https://localhost:8080/",
     "height": 400
    },
    "id": "XZ2LvgKCCzPI",
    "outputId": "bf864ea0-249b-4e40-cdc7-fd5203e650f1",
    "pycharm": {
     "name": "#%%\n"
    }
   },
   "execution_count": null,
   "outputs": [
    {
     "output_type": "display_data",
     "data": {
      "text/plain": [
       "<Figure size 1008x432 with 2 Axes>"
      ],
      "image/png": "[encoded data removed]"
     },
     "metadata": {}
    }
   ]
  },
  {
   "cell_type": "code",
   "source": [
    "model.coef_[0]"
   ],
   "metadata": {
    "colab": {
     "base_uri": "https://localhost:8080/"
    },
    "id": "R0x-J2X6DwSA",
    "outputId": "7ec11aca-9191-44b4-88b7-0d034393d78c",
    "pycharm": {
     "name": "#%%\n"
    }
   },
   "execution_count": null,
   "outputs": [
    {
     "output_type": "execute_result",
     "data": {
      "text/plain": [
       "array([ 2.00665683, -0.27323599,  0.65846073, -0.46189274,  0.07632945,\n",
       "       11.64601347, -2.68975239,  1.4599834 , -0.8702744 , -0.35363012])"
      ]
     },
     "metadata": {},
     "execution_count": 86
    }
   ]
  },
  {
   "cell_type": "code",
   "source": [
    "del sorted"
   ],
   "metadata": {
    "id": "btuukTqSDnmb",
    "pycharm": {
     "name": "#%%\n"
    }
   },
   "execution_count": null,
   "outputs": []
  },
  {
   "cell_type": "code",
   "source": [
    "features_w_coefs = {k: v for k,v in zip(usecols, model.coef_[0])}\n",
    "# sort_res = {k: v for k, v in sorted(features_w_coefs.items(), key=lambda item: item[1])}\n",
    "# sort_res"
   ],
   "metadata": {
    "id": "XAGQOEvaCz4s",
    "pycharm": {
     "name": "#%%\n"
    }
   },
   "execution_count": null,
   "outputs": []
  },
  {
   "cell_type": "code",
   "source": [
    "dict(sorted(features_w_coefs.items(), key=lambda item: item[0], reverse=True))"
   ],
   "metadata": {
    "colab": {
     "base_uri": "https://localhost:8080/"
    },
    "id": "YnU3Iy0uD0yR",
    "outputId": "6b2826d5-e37e-4dec-810a-ea7fb83b5c9b",
    "pycharm": {
     "name": "#%%\n"
    }
   },
   "execution_count": null,
   "outputs": [
    {
     "output_type": "execute_result",
     "data": {
      "text/plain": [
       "{'2_grams_jaccard': -0.4618927378764362,\n",
       " '3_grams_jaccard': 0.658460730849945,\n",
       " '4_grams_jaccard': 0.07632945375586102,\n",
       " 'bert_cosine_distance': 2.006656827253117,\n",
       " 'prediction_seamese_bert': -0.273235993257245,\n",
       " 'predictions': -2.6897523915757726,\n",
       " 'predictions_raw': 11.646013472144181,\n",
       " 'shortest_path_distance': 1.4599833964996878,\n",
       " 'wm_distance': -0.35363012041380365,\n",
       " 'wup_similarity': -0.8702743985240236}"
      ]
     },
     "metadata": {},
     "execution_count": 107
    }
   ]
  },
  {
   "cell_type": "code",
   "source": [
    "sns.heatmap(abs(X_test.corr()), annot=True, xticklabels=feature_names, yticklabels=feature_names);"
   ],
   "metadata": {
    "colab": {
     "base_uri": "https://localhost:8080/",
     "height": 266
    },
    "id": "2yTrSrn3FvO0",
    "outputId": "e11d8f59-7af4-4dfc-c81c-754a4adb1f76",
    "pycharm": {
     "name": "#%%\n"
    }
   },
   "execution_count": null,
   "outputs": [
    {
     "output_type": "display_data",
     "data": {
      "text/plain": [
       "<Figure size 432x288 with 2 Axes>"
      ],
      "image/png": "[encoded data removed]"
     },
     "metadata": {}
    }
   ]
  },
  {
   "cell_type": "code",
   "source": [
    "confusion(y_test, X_test['predictions'])"
   ],
   "metadata": {
    "colab": {
     "base_uri": "https://localhost:8080/",
     "height": 262
    },
    "id": "mrPZgwbIGE_f",
    "outputId": "24e28db9-88d3-4b2d-95ef-076d73952fb2",
    "pycharm": {
     "name": "#%%\n"
    }
   },
   "execution_count": null,
   "outputs": [
    {
     "output_type": "display_data",
     "data": {
      "text/plain": [
       "<Figure size 432x288 with 2 Axes>"
      ],
      "image/png": "[encoded data removed]"
     },
     "metadata": {}
    }
   ]
  },
  {
   "cell_type": "code",
   "source": [
    "print(classification_report(y_test, X_test['predictions']))"
   ],
   "metadata": {
    "colab": {
     "base_uri": "https://localhost:8080/"
    },
    "id": "YhmKu9-25HNy",
    "outputId": "5c1bb8ab-52ef-432f-f8d8-db4d7690df82",
    "pycharm": {
     "name": "#%%\n"
    }
   },
   "execution_count": null,
   "outputs": [
    {
     "output_type": "stream",
     "name": "stdout",
     "text": [
      "              precision    recall  f1-score   support\n",
      "\n",
      "           0       0.96      0.89      0.93      4464\n",
      "           1       0.87      0.96      0.91      3536\n",
      "\n",
      "    accuracy                           0.92      8000\n",
      "   macro avg       0.92      0.92      0.92      8000\n",
      "weighted avg       0.92      0.92      0.92      8000\n",
      "\n"
     ]
    }
   ]
  },
  {
   "cell_type": "code",
   "source": [
    "X_train.head()"
   ],
   "metadata": {
    "colab": {
     "base_uri": "https://localhost:8080/",
     "height": 206
    },
    "id": "iTCXTgGV--IY",
    "outputId": "85a8f1e7-83d3-4632-97f8-97e6799ff4b9",
    "pycharm": {
     "name": "#%%\n"
    }
   },
   "execution_count": null,
   "outputs": [
    {
     "output_type": "execute_result",
     "data": {
      "text/plain": [
       "   bert_cosine_distance  prediction_seamese_bert  3_grams_jaccard  \\\n",
       "0              0.991096                 0.808118         0.333333   \n",
       "1              0.987829                 0.901397         0.461538   \n",
       "2              0.938906                 0.942084         0.125000   \n",
       "3              0.973281                 0.832014         0.187500   \n",
       "4              0.985249                 0.728312         0.285714   \n",
       "\n",
       "   2_grams_jaccard  4_grams_jaccard  predictions_raw  predictions  \\\n",
       "0         0.483871         0.235294         0.000793            0   \n",
       "1         0.727273         0.384615         0.996700            1   \n",
       "2         0.333333         0.000000         0.002786            0   \n",
       "3         0.400000         0.062500         0.998303            1   \n",
       "4         0.538462         0.142857         0.997327            1   \n",
       "\n",
       "   shortest_path_distance  wup_similarity  wm_distance  \n",
       "0                0.933332        0.989999     0.070316  \n",
       "1                0.999998        0.999998     0.000000  \n",
       "2                0.902005        0.921855     0.121349  \n",
       "3                0.999999        0.999999     0.000000  \n",
       "4                0.999998        0.999998     0.000000  "
      ],
      "text/html": [
       "\n",
       "  <div id=\"df-0d2f8b18-e871-4a2b-a680-95b6ec54d114\">\n",
       "    <div class=\"colab-df-container\">\n",
       "      <div>\n",
       "<style scoped>\n",
       "    .dataframe tbody tr th:only-of-type {\n",
       "        vertical-align: middle;\n",
       "    }\n",
       "\n",
       "    .dataframe tbody tr th {\n",
       "        vertical-align: top;\n",
       "    }\n",
       "\n",
       "    .dataframe thead th {\n",
       "        text-align: right;\n",
       "    }\n",
       "</style>\n",
       "<table border=\"1\" class=\"dataframe\">\n",
       "  <thead>\n",
       "    <tr style=\"text-align: right;\">\n",
       "      <th></th>\n",
       "      <th>bert_cosine_distance</th>\n",
       "      <th>prediction_seamese_bert</th>\n",
       "      <th>3_grams_jaccard</th>\n",
       "      <th>2_grams_jaccard</th>\n",
       "      <th>4_grams_jaccard</th>\n",
       "      <th>predictions_raw</th>\n",
       "      <th>predictions</th>\n",
       "      <th>shortest_path_distance</th>\n",
       "      <th>wup_similarity</th>\n",
       "      <th>wm_distance</th>\n",
       "    </tr>\n",
       "  </thead>\n",
       "  <tbody>\n",
       "    <tr>\n",
       "      <th>0</th>\n",
       "      <td>0.991096</td>\n",
       "      <td>0.808118</td>\n",
       "      <td>0.333333</td>\n",
       "      <td>0.483871</td>\n",
       "      <td>0.235294</td>\n",
       "      <td>0.000793</td>\n",
       "      <td>0</td>\n",
       "      <td>0.933332</td>\n",
       "      <td>0.989999</td>\n",
       "      <td>0.070316</td>\n",
       "    </tr>\n",
       "    <tr>\n",
       "      <th>1</th>\n",
       "      <td>0.987829</td>\n",
       "      <td>0.901397</td>\n",
       "      <td>0.461538</td>\n",
       "      <td>0.727273</td>\n",
       "      <td>0.384615</td>\n",
       "      <td>0.996700</td>\n",
       "      <td>1</td>\n",
       "      <td>0.999998</td>\n",
       "      <td>0.999998</td>\n",
       "      <td>0.000000</td>\n",
       "    </tr>\n",
       "    <tr>\n",
       "      <th>2</th>\n",
       "      <td>0.938906</td>\n",
       "      <td>0.942084</td>\n",
       "      <td>0.125000</td>\n",
       "      <td>0.333333</td>\n",
       "      <td>0.000000</td>\n",
       "      <td>0.002786</td>\n",
       "      <td>0</td>\n",
       "      <td>0.902005</td>\n",
       "      <td>0.921855</td>\n",
       "      <td>0.121349</td>\n",
       "    </tr>\n",
       "    <tr>\n",
       "      <th>3</th>\n",
       "      <td>0.973281</td>\n",
       "      <td>0.832014</td>\n",
       "      <td>0.187500</td>\n",
       "      <td>0.400000</td>\n",
       "      <td>0.062500</td>\n",
       "      <td>0.998303</td>\n",
       "      <td>1</td>\n",
       "      <td>0.999999</td>\n",
       "      <td>0.999999</td>\n",
       "      <td>0.000000</td>\n",
       "    </tr>\n",
       "    <tr>\n",
       "      <th>4</th>\n",
       "      <td>0.985249</td>\n",
       "      <td>0.728312</td>\n",
       "      <td>0.285714</td>\n",
       "      <td>0.538462</td>\n",
       "      <td>0.142857</td>\n",
       "      <td>0.997327</td>\n",
       "      <td>1</td>\n",
       "      <td>0.999998</td>\n",
       "      <td>0.999998</td>\n",
       "      <td>0.000000</td>\n",
       "    </tr>\n",
       "  </tbody>\n",
       "</table>\n",
       "</div>\n",
       "      <button class=\"colab-df-convert\" onclick=\"convertToInteractive('df-0d2f8b18-e871-4a2b-a680-95b6ec54d114')\"\n",
       "              title=\"Convert this dataframe to an interactive table.\"\n",
       "              style=\"display:none;\">\n",
       "        \n",
       "  <svg xmlns=\"http://www.w3.org/2000/svg\" height=\"24px\"viewBox=\"0 0 24 24\"\n",
       "       width=\"24px\">\n",
       "    <path d=\"M0 0h24v24H0V0z\" fill=\"none\"/>\n",
       "    <path d=\"M18.56 5.44l.94 2.06.94-2.06 2.06-.94-2.06-.94-.94-2.06-.94 2.06-2.06.94zm-11 1L8.5 8.5l.94-2.06 2.06-.94-2.06-.94L8.5 2.5l-.94 2.06-2.06.94zm10 10l.94 2.06.94-2.06 2.06-.94-2.06-.94-.94-2.06-.94 2.06-2.06.94z\"/><path d=\"M17.41 7.96l-1.37-1.37c-.4-.4-.92-.59-1.43-.59-.52 0-1.04.2-1.43.59L10.3 9.45l-7.72 7.72c-.78.78-.78 2.05 0 2.83L4 21.41c.39.39.9.59 1.41.59.51 0 1.02-.2 1.41-.59l7.78-7.78 2.81-2.81c.8-.78.8-2.07 0-2.86zM5.41 20L4 18.59l7.72-7.72 1.47 1.35L5.41 20z\"/>\n",
       "  </svg>\n",
       "      </button>\n",
       "      \n",
       "  <style>\n",
       "    .colab-df-container {\n",
       "      display:flex;\n",
       "      flex-wrap:wrap;\n",
       "      gap: 12px;\n",
       "    }\n",
       "\n",
       "    .colab-df-convert {\n",
       "      background-color: #E8F0FE;\n",
       "      border: none;\n",
       "      border-radius: 50%;\n",
       "      cursor: pointer;\n",
       "      display: none;\n",
       "      fill: #1967D2;\n",
       "      height: 32px;\n",
       "      padding: 0 0 0 0;\n",
       "      width: 32px;\n",
       "    }\n",
       "\n",
       "    .colab-df-convert:hover {\n",
       "      background-color: #E2EBFA;\n",
       "      box-shadow: 0px 1px 2px rgba(60, 64, 67, 0.3), 0px 1px 3px 1px rgba(60, 64, 67, 0.15);\n",
       "      fill: #174EA6;\n",
       "    }\n",
       "\n",
       "    [theme=dark] .colab-df-convert {\n",
       "      background-color: #3B4455;\n",
       "      fill: #D2E3FC;\n",
       "    }\n",
       "\n",
       "    [theme=dark] .colab-df-convert:hover {\n",
       "      background-color: #434B5C;\n",
       "      box-shadow: 0px 1px 3px 1px rgba(0, 0, 0, 0.15);\n",
       "      filter: drop-shadow(0px 1px 2px rgba(0, 0, 0, 0.3));\n",
       "      fill: #FFFFFF;\n",
       "    }\n",
       "  </style>\n",
       "\n",
       "      <script>\n",
       "        const buttonEl =\n",
       "          document.querySelector('#df-0d2f8b18-e871-4a2b-a680-95b6ec54d114 button.colab-df-convert');\n",
       "        buttonEl.style.display =\n",
       "          google.colab.kernel.accessAllowed ? 'block' : 'none';\n",
       "\n",
       "        async function convertToInteractive(key) {\n",
       "          const element = document.querySelector('#df-0d2f8b18-e871-4a2b-a680-95b6ec54d114');\n",
       "          const dataTable =\n",
       "            await google.colab.kernel.invokeFunction('convertToInteractive',\n",
       "                                                     [key], {});\n",
       "          if (!dataTable) return;\n",
       "\n",
       "          const docLinkHtml = 'Like what you see? Visit the ' +\n",
       "            '<a target=\"_blank\" href=https://colab.research.google.com/notebooks/data_table.ipynb>data table notebook</a>'\n",
       "            + ' to learn more about interactive tables.';\n",
       "          element.innerHTML = '';\n",
       "          dataTable['output_type'] = 'display_data';\n",
       "          await google.colab.output.renderOutput(dataTable, element);\n",
       "          const docLink = document.createElement('div');\n",
       "          docLink.innerHTML = docLinkHtml;\n",
       "          element.appendChild(docLink);\n",
       "        }\n",
       "      </script>\n",
       "    </div>\n",
       "  </div>\n",
       "  "
      ]
     },
     "metadata": {},
     "execution_count": 72
    }
   ]
  },
  {
   "cell_type": "code",
   "source": [
    "from sklearn.linear_model import LogisticRegression\n",
    "from sklearn.ensemble import RandomForestClassifier\n",
    "from sklearn.tree import DecisionTreeClassifier\n",
    "from sklearn.neural_network import MLPClassifier\n",
    "from sklearn.ensemble import AdaBoostClassifier\n",
    "from sklearn.ensemble import ExtraTreesClassifier\n",
    "from sklearn.svm import LinearSVC\n",
    "from sklearn.neighbors import KNeighborsClassifier\n",
    "from sklearn.feature_selection import SelectFromModel\n",
    "from xgboost import XGBClassifier\n",
    "from sklearn.discriminant_analysis import QuadraticDiscriminantAnalysis\n",
    "\n",
    "from sklearn.gaussian_process import GaussianProcessClassifier\n",
    "from sklearn.svm import SVC\n",
    "from sklearn.gaussian_process.kernels import RBF\n",
    "from sklearn.naive_bayes import GaussianNB\n",
    "\n",
    "\n",
    "# names of classifiers\n",
    "classifiers = [\n",
    "               'Logistic Regression',\n",
    "]\n",
    "\n",
    "# initialize classifiers\n",
    "models = [\n",
    "          LogisticRegression(max_iter=1000),\n",
    "          ]\n",
    "\n",
    "changed = ['original data', \n",
    "          'feature selection (1)',\n",
    "          'feature selection (2)', \n",
    "          'feature selection (3)',\n",
    "          'feature selection (4)',\n",
    "          'feature selection (5)',\n",
    "           'feature selection (6)',\n",
    "           'feature selection (7)',\n",
    "           'feature selection (8)',\n",
    "           'feature selection (9)',\n",
    "           'feature selection (10)',\n",
    "                ]\n",
    "\n",
    "classifiers_table = []\n",
    "features_table = []\n",
    "accuracy_table = []\n",
    "\n",
    "\n",
    "for i in range(len(models)):\n",
    "  for j in changed:\n",
    "\n",
    "    if 'feature selection' in j:\n",
    "\n",
    "      clf = LogisticRegression(max_iter=1000)\n",
    "      clf = clf.fit(X_train, y_train)\n",
    "\n",
    "      max_features = int(j[-2])\n",
    "\n",
    "      selecter = SelectFromModel(clf, prefit=True, max_features=max_features)\n",
    "      x_train = selecter.transform(X_train)\n",
    "      x_test = selecter.transform(X_test)\n",
    "      \n",
    "      model = models[i].fit(x_train, y_train)\n",
    "      predictions = model.predict(x_test)\n",
    "\n",
    "      accuracy_table.append(accuracy_score(y_test, predictions))\n",
    "      features_table.append(j)\n",
    "      classifiers_table.append(classifiers[i])\n",
    "    else:\n",
    "      model = models[i].fit(X_train, y_train)\n",
    "      predictions = model.predict(X_test)\n",
    "\n",
    "      accuracy_table.append(accuracy_score(y_test, predictions))\n",
    "      features_table.append(j)\n",
    "      classifiers_table.append(classifiers[i])\n",
    "    "
   ],
   "metadata": {
    "id": "lhOWr6cxeGwR",
    "pycharm": {
     "name": "#%%\n"
    }
   },
   "execution_count": null,
   "outputs": []
  },
  {
   "cell_type": "code",
   "source": [
    "# create table with mean accuracy per folds\n",
    "# for each combination\n",
    "df = pd.DataFrame ({\n",
    "    'Classifier': classifiers_table,\n",
    "    'Feature selection': features_table,\n",
    "    'Accuracy on test set': accuracy_table\n",
    "})\n",
    "\n",
    "df.style.background_gradient(cmap='Blues')"
   ],
   "metadata": {
    "id": "DTmQoh9X-uxs",
    "pycharm": {
     "name": "#%%\n"
    }
   },
   "execution_count": null,
   "outputs": []
  },
  {
   "cell_type": "code",
   "source": [
    "'feature selection (10)'.split('(').split(')')"
   ],
   "metadata": {
    "colab": {
     "base_uri": "https://localhost:8080/",
     "height": 165
    },
    "id": "uGO8gP56SV5e",
    "outputId": "ca5be480-9555-4974-8f10-04d4902cfaf1",
    "pycharm": {
     "name": "#%%\n"
    }
   },
   "execution_count": null,
   "outputs": [
    {
     "output_type": "error",
     "ename": "AttributeError",
     "evalue": "ignored",
     "traceback": [
      "\u001B[0;31m---------------------------------------------------------------------------\u001B[0m",
      "\u001B[0;31mAttributeError\u001B[0m                            Traceback (most recent call last)",
      "\u001B[0;32m<ipython-input-23-adcfce37b394>\u001B[0m in \u001B[0;36m<module>\u001B[0;34m()\u001B[0m\n\u001B[0;32m----> 1\u001B[0;31m \u001B[0;34m'feature selection (10)'\u001B[0m\u001B[0;34m.\u001B[0m\u001B[0msplit\u001B[0m\u001B[0;34m(\u001B[0m\u001B[0;34m'('\u001B[0m\u001B[0;34m)\u001B[0m\u001B[0;34m.\u001B[0m\u001B[0msplit\u001B[0m\u001B[0;34m(\u001B[0m\u001B[0;34m')'\u001B[0m\u001B[0;34m)\u001B[0m\u001B[0;34m\u001B[0m\u001B[0;34m\u001B[0m\u001B[0m\n\u001B[0m",
      "\u001B[0;31mAttributeError\u001B[0m: 'list' object has no attribute 'split'"
     ]
    }
   ]
  },
  {
   "cell_type": "markdown",
   "source": [
    "# SIAMESE NN"
   ],
   "metadata": {
    "id": "66dGyEp6eJ1T",
    "pycharm": {
     "name": "#%% md\n"
    }
   }
  },
  {
   "cell_type": "code",
   "source": [
    "import pandas as pd\n",
    "import nltk\n",
    "\n",
    "from nltk.corpus import stopwords\n",
    "import re\n",
    "import gensim.downloader as api\n",
    "from tensorflow.keras.preprocessing.text import Tokenizer\n",
    "from tensorflow.keras.preprocessing.sequence import pad_sequences\n",
    "# tokenizer\n",
    "from nltk.tokenize import word_tokenize\n",
    "\n",
    "# NN\n",
    "from tensorflow.keras.models import Sequential\n",
    "from tensorflow.keras.layers import Embedding, LSTM, Bidirectional, Dense, Dropout, Input\n",
    "from tensorflow.keras.optimizers import Adam\n",
    "\n",
    "# import and initialize early stopping\n",
    "from tensorflow.keras.callbacks import EarlyStopping\n",
    "stop = EarlyStopping(monitor='val_loss', mode='min', verbose=1, patience=3)\n"
   ],
   "metadata": {
    "colab": {
     "base_uri": "https://localhost:8080/"
    },
    "id": "nFjzBim_ee_u",
    "outputId": "d71a7592-2f35-4304-cfda-2a89359b3c91",
    "pycharm": {
     "name": "#%%\n"
    }
   },
   "execution_count": null,
   "outputs": [
    {
     "output_type": "stream",
     "name": "stdout",
     "text": [
      "[nltk_data] Downloading package punkt to /root/nltk_data...\n",
      "[nltk_data]   Unzipping tokenizers/punkt.zip.\n",
      "[nltk_data] Downloading package stopwords to /root/nltk_data...\n",
      "[nltk_data]   Unzipping corpora/stopwords.zip.\n"
     ]
    }
   ]
  },
  {
   "cell_type": "code",
   "source": [
    "\n",
    "model_wiki = api.load('fasttext-wiki-news-subwords-300')\n",
    "nltk.download('punkt')\n",
    "nltk.download('stopwords')\n",
    "\n",
    "# downloading a set of stop-words\n",
    "STOPWORDS = set(stopwords.words('english'))\n",
    "\n",
    "df_train = pd.read_csv('/content/data/train.tsv', sep='\\t')\n",
    "df_test = pd.read_csv('/content/data/test.tsv', sep='\\t')\n",
    "df_dev = pd.read_csv('/content/data/dev.tsv', sep='\\t')\n"
   ],
   "metadata": {
    "id": "IuBCfAWrfZwm",
    "pycharm": {
     "name": "#%%\n"
    }
   },
   "execution_count": null,
   "outputs": []
  },
  {
   "cell_type": "code",
   "source": [
    "############################ TEXT PREPROCESSING ############################\n",
    "\n",
    "def text_preprocess(text, stop_words=False):\n",
    "    '''\n",
    "    Accepts text (a single string) and\n",
    "    a parameters of preprocessing\n",
    "    Returns preprocessed text\n",
    "\n",
    "    '''\n",
    "    # clean text from non-words\n",
    "    text = re.sub(r'\\W+', ' ', text).lower()\n",
    "\n",
    "    text = re.sub(r'\\d+', ' ', text).lower()\n",
    "\n",
    "    # tokenize the text\n",
    "    tokens = word_tokenize(text)\n",
    "\n",
    "    if stop_words:\n",
    "        # delete stop_words\n",
    "        tokens = [token for token in tokens if token not in STOPWORDS]\n",
    "\n",
    "    return tokens\n",
    "\n",
    "\n",
    "x_train1 = [text_preprocess(t, stop_words=True) for t in df_train['sentence1']]\n",
    "x_train2 = [text_preprocess(t, stop_words=True) for t in df_train['sentence2']]\n",
    "y_train = df_train['label'].values\n",
    "\n",
    "x_test1 = [text_preprocess(t, stop_words=True) for t in df_test['sentence1']]\n",
    "x_test2 = [text_preprocess(t, stop_words=True) for t in df_test['sentence2']]\n",
    "y_test = df_test['label'].values\n",
    "\n",
    "\n",
    "x_dev1 = [text_preprocess(t, stop_words=True) for t in df_dev['sentence1']]\n",
    "x_dev2 = [text_preprocess(t, stop_words=True) for t in df_dev['sentence2']]\n",
    "y_dev = df_dev['label'].values"
   ],
   "metadata": {
    "colab": {
     "base_uri": "https://localhost:8080/"
    },
    "id": "G-vYMYcqfW86",
    "outputId": "f341ece0-7466-4984-ba8a-da06401f7337",
    "pycharm": {
     "name": "#%%\n"
    }
   },
   "execution_count": null,
   "outputs": [
    {
     "output_type": "stream",
     "name": "stdout",
     "text": [
      "================================================================================\n",
      " [('new', 1), ('born', 2), ('first', 3), ('also', 4), ('river', 5)] \n",
      "================================================================================\n",
      "finished\n"
     ]
    }
   ]
  },
  {
   "cell_type": "code",
   "source": [
    "################################ TOKENIZE ################################\n",
    "\n",
    "DICT_SIZE = 15000\n",
    "\n",
    "# creating a dictionary with most used words\n",
    "# where num of words = DICT_SIZE\n",
    "tokenizer = Tokenizer(num_words=DICT_SIZE)\n",
    "total = x_train1 + x_train2 + x_test1 + x_test2 + x_dev1 + x_dev2\n",
    "tokenizer.fit_on_texts(total)\n",
    "\n",
    "print('='*80 + '\\n', list(tokenizer.word_index.items())[:5], '\\n' + '='*80)\n",
    "\n",
    "print('finished')\n"
   ],
   "metadata": {
    "id": "-YETYWSvfUFB",
    "pycharm": {
     "name": "#%%\n"
    }
   },
   "execution_count": null,
   "outputs": []
  },
  {
   "cell_type": "code",
   "source": [
    "############################### ADD PADDING ###############################\n",
    "MAX_LEN = 128\n",
    "\n",
    "# 1\n",
    "X_train1 = tokenizer.texts_to_sequences(x_train1)\n",
    "X_train_pad1 = pad_sequences(X_train1, maxlen=MAX_LEN)\n",
    "\n",
    "X_test1 = tokenizer.texts_to_sequences(x_test1)\n",
    "X_test_pad1 = pad_sequences(X_test1, maxlen=MAX_LEN)\n",
    "\n",
    "X_dev1 = tokenizer.texts_to_sequences(x_dev1)\n",
    "X_dev_pad1 = pad_sequences(X_dev1, maxlen=MAX_LEN)\n",
    "\n",
    "# 2\n",
    "X_train2 = tokenizer.texts_to_sequences(x_train2)\n",
    "X_train_pad2 = pad_sequences(X_train2, maxlen=MAX_LEN)\n",
    "\n",
    "X_test2 = tokenizer.texts_to_sequences(x_test2)\n",
    "X_test_pad2 = pad_sequences(X_test2, maxlen=MAX_LEN)\n",
    "\n",
    "X_dev2 = tokenizer.texts_to_sequences(x_dev2)\n",
    "X_dev_pad2 = pad_sequences(X_dev2, maxlen=MAX_LEN)"
   ],
   "metadata": {
    "colab": {
     "base_uri": "https://localhost:8080/"
    },
    "id": "JrxSNTlKfOf0",
    "outputId": "64448a47-5b1c-43b1-ad2a-38edabf47459",
    "pycharm": {
     "name": "#%%\n"
    }
   },
   "execution_count": null,
   "outputs": [
    {
     "output_type": "stream",
     "name": "stdout",
     "text": [
      "3959 words were skipped. Some of them:\n",
      "['_', 'valea', 'buccinidae', 'berasia', 'zemgale', 'horace', 'palghar', 'lottiidae', 'trenčín', 'geometridae', 'guillermo', 'dahanu', 'dunedin', 'gonzalo', 'biddle', 'björn', 'guadalajara', 'dunfermline', 'pérez', 'olt', 'lillian', 'jiul', 'medford', 'ashland', 'malmö', 'abilene', 'martínez', 'hammerstein', 'suceava', 'shawnee', 'gianni', 'talcott', 'eoacmaea', 'eoacmaeidae', 'audubon', 'josé', 'lyell', 'amasya', 'galveston', 'townshend', 'cheadle', 'kilroy', 'oecomys', 'retzius', 'goldsborough', 'jürgen', 'toowoomba', 'monrovia', 'nikolai', 'björkman']\n"
     ]
    }
   ]
  },
  {
   "cell_type": "code",
   "source": [
    "############################### WEIGHT MATRIX ###############################\n",
    "def create_weight_matrix(model, second_model=False):\n",
    "    '''\n",
    "    Accepts word embedding model\n",
    "    and the second model, if provided\n",
    "    Returns weight matrix of size m*n, where\n",
    "    m - size of the dictionary\n",
    "    n - size of the word embedding vector\n",
    "\n",
    "    '''\n",
    "    vector_size = model.get_vector('like').shape[0]\n",
    "    w_matrix = np.zeros((DICT_SIZE, vector_size))\n",
    "    skipped_words = []\n",
    "\n",
    "    for word, index in tokenizer.word_index.items():\n",
    "        if index < DICT_SIZE:\n",
    "            try:\n",
    "                w_matrix[index] = model.get_vector(word)\n",
    "            except KeyError:\n",
    "                skipped_words.append(word)\n",
    "\n",
    "    print(f'{len(skipped_words)} words were skipped. Some of them:')\n",
    "    print(skipped_words[:50])\n",
    "    return w_matrix\n",
    "\n",
    "\n",
    "weight_matrix = create_weight_matrix(model_wiki)\n"
   ],
   "metadata": {
    "id": "ckuaHi7afLuF",
    "pycharm": {
     "name": "#%%\n"
    }
   },
   "execution_count": null,
   "outputs": []
  },
  {
   "cell_type": "code",
   "source": [
    "############################### CONCAT VALUES ###############################\n",
    "\n",
    "X_train = [X_train_pad1, X_train_pad2]\n",
    "X_test = [X_test_pad1, X_test_pad2]\n",
    "X_dev = [X_dev_pad1, X_dev_pad2]"
   ],
   "metadata": {
    "id": "nldWZ43ljlGB",
    "pycharm": {
     "name": "#%%\n"
    }
   },
   "execution_count": null,
   "outputs": []
  },
  {
   "cell_type": "code",
   "source": [
    "from tensorflow.keras.models import Model\n",
    "from tensorflow.keras import layers, utils, callbacks, optimizers, regularizers"
   ],
   "metadata": {
    "colab": {
     "base_uri": "https://localhost:8080/",
     "height": 1000
    },
    "id": "3Ze0ZDclfJh8",
    "outputId": "14e463a0-37eb-4d0b-b5fc-3861e3222ee7",
    "pycharm": {
     "name": "#%%\n"
    }
   },
   "execution_count": null,
   "outputs": [
    {
     "output_type": "stream",
     "name": "stdout",
     "text": [
      "Model: \"model_1\"\n",
      "__________________________________________________________________________________________________\n",
      " Layer (type)                   Output Shape         Param #     Connected to                     \n",
      "==================================================================================================\n",
      " input_3 (InputLayer)           [(None, 128)]        0           []                               \n",
      "                                                                                                  \n",
      " input_4 (InputLayer)           [(None, 128)]        0           []                               \n",
      "                                                                                                  \n",
      " embedding_1 (Embedding)        (None, 128, 300)     4500000     ['input_3[0][0]',                \n",
      "                                                                  'input_4[0][0]']                \n",
      "                                                                                                  \n",
      " bidirectional_1 (Bidirectional  (None, 256)         439296      ['embedding_1[0][0]',            \n",
      " )                                                                'embedding_1[1][0]']            \n",
      "                                                                                                  \n",
      " concatenate_1 (Concatenate)    (None, 512)          0           ['bidirectional_1[0][0]',        \n",
      "                                                                  'bidirectional_1[1][0]']        \n",
      "                                                                                                  \n",
      " dense_2 (Dense)                (None, 64)           32832       ['concatenate_1[0][0]']          \n",
      "                                                                                                  \n",
      " dense_3 (Dense)                (None, 1)            65          ['dense_2[0][0]']                \n",
      "                                                                                                  \n",
      "==================================================================================================\n",
      "Total params: 4,972,193\n",
      "Trainable params: 472,193\n",
      "Non-trainable params: 4,500,000\n",
      "__________________________________________________________________________________________________\n"
     ]
    },
    {
     "output_type": "execute_result",
     "data": {
      "text/plain": [
       "<IPython.core.display.Image object>"
      ],
      "image/png": "[encoded data removed]"
     },
     "metadata": {},
     "execution_count": 17
    }
   ]
  },
  {
   "cell_type": "code",
   "source": [
    "############################### NEURAL NETWORK ###############################\n",
    "input_q1 = Input(shape = X_train[0].shape[1])\n",
    "input_q2 = Input(shape = X_train[0].shape[1])\n",
    "\n",
    "embedding_layer = Embedding(DICT_SIZE,\n",
    "                            300,\n",
    "                            input_length = X_train[0].shape[1],\n",
    "                            weights = [weight_matrix],\n",
    "                            trainable=False)\n",
    "\n",
    "\n",
    "embedded_sequences_q1 = embedding_layer(input_q1)\n",
    "embedded_sequences_q2 = embedding_layer(input_q2)\n",
    "\n",
    "bilstm_layer = Bidirectional(LSTM(128, return_sequences=False))\n",
    "\n",
    "x1 = bilstm_layer(embedded_sequences_q1)\n",
    "x2 = bilstm_layer(embedded_sequences_q2)\n",
    "\n",
    "distance = layers.Concatenate()([x1, x2])\n",
    "x = Dense(64, activation=\"relu\")(distance)\n",
    "preds = Dense(1, activation=\"sigmoid\")(x)\n",
    "\n",
    "model = Model(inputs=[input_q1, input_q2], outputs=preds)\n",
    "model.compile(loss=\"binary_crossentropy\",\n",
    "              optimizer=\"adam\",\n",
    "              metrics=[\"accuracy\"])\n",
    "\n",
    "\n",
    "\n",
    "model.summary()\n",
    "utils.plot_model(model, show_shapes=True, expand_nested=True)"
   ],
   "metadata": {
    "colab": {
     "base_uri": "https://localhost:8080/",
     "height": 779
    },
    "id": "2we1wgfHiWNl",
    "outputId": "9114f0a0-76f6-4382-cfbd-d2f118af5f56",
    "pycharm": {
     "name": "#%%\n"
    }
   },
   "execution_count": null,
   "outputs": [
    {
     "output_type": "stream",
     "name": "stdout",
     "text": [
      "Epoch 1/100\n",
      "772/772 [==============================] - 40s 41ms/step - loss: 0.6863 - accuracy: 0.5574 - val_loss: 0.6853 - val_accuracy: 0.5596 - lr: 0.0010\n",
      "Epoch 2/100\n",
      "772/772 [==============================] - 31s 41ms/step - loss: 0.6888 - accuracy: 0.5661 - val_loss: 0.6825 - val_accuracy: 0.5624 - lr: 0.0010\n",
      "Epoch 3/100\n",
      "772/772 [==============================] - 32s 41ms/step - loss: 0.6397 - accuracy: 0.6255 - val_loss: 0.6257 - val_accuracy: 0.6600 - lr: 0.0010\n",
      "Epoch 4/100\n",
      "772/772 [==============================] - 31s 40ms/step - loss: 0.5823 - accuracy: 0.6954 - val_loss: 0.5993 - val_accuracy: 0.6924 - lr: 0.0010\n",
      "Epoch 5/100\n",
      "772/772 [==============================] - 31s 40ms/step - loss: 0.5467 - accuracy: 0.7232 - val_loss: 0.5982 - val_accuracy: 0.6917 - lr: 0.0010\n",
      "Epoch 6/100\n",
      "772/772 [==============================] - 31s 40ms/step - loss: 0.5162 - accuracy: 0.7445 - val_loss: 0.6191 - val_accuracy: 0.6804 - lr: 0.0010\n",
      "Epoch 7/100\n",
      "771/772 [============================>.] - ETA: 0s - loss: 0.4894 - accuracy: 0.7606\n",
      "Epoch 7: ReduceLROnPlateau reducing learning rate to 0.0005000000237487257.\n",
      "772/772 [==============================] - 32s 41ms/step - loss: 0.4894 - accuracy: 0.7606 - val_loss: 0.6268 - val_accuracy: 0.6877 - lr: 0.0010\n",
      "Epoch 8/100\n",
      "772/772 [==============================] - 31s 41ms/step - loss: 0.4509 - accuracy: 0.7860 - val_loss: 0.6269 - val_accuracy: 0.6919 - lr: 5.0000e-04\n",
      "Epoch 9/100\n",
      "771/772 [============================>.] - ETA: 0s - loss: 0.4322 - accuracy: 0.7978\n",
      "Epoch 9: ReduceLROnPlateau reducing learning rate to 0.0002500000118743628.\n",
      "772/772 [==============================] - 32s 41ms/step - loss: 0.4321 - accuracy: 0.7978 - val_loss: 0.6412 - val_accuracy: 0.6846 - lr: 5.0000e-04\n",
      "Epoch 10/100\n",
      "621/772 [=======================>......] - ETA: 5s - loss: 0.4063 - accuracy: 0.8119"
     ]
    },
    {
     "output_type": "error",
     "ename": "KeyboardInterrupt",
     "evalue": "ignored",
     "traceback": [
      "\u001B[0;31m---------------------------------------------------------------------------\u001B[0m",
      "\u001B[0;31mKeyboardInterrupt\u001B[0m                         Traceback (most recent call last)",
      "\u001B[0;32m<ipython-input-20-bdfb5690a7f8>\u001B[0m in \u001B[0;36m<module>\u001B[0;34m()\u001B[0m\n\u001B[1;32m     12\u001B[0m     \u001B[0mbatch_size\u001B[0m\u001B[0;34m=\u001B[0m\u001B[0;36m64\u001B[0m\u001B[0;34m,\u001B[0m\u001B[0;34m\u001B[0m\u001B[0;34m\u001B[0m\u001B[0m\n\u001B[1;32m     13\u001B[0m     \u001B[0mepochs\u001B[0m\u001B[0;34m=\u001B[0m\u001B[0;36m100\u001B[0m\u001B[0;34m,\u001B[0m\u001B[0;34m\u001B[0m\u001B[0;34m\u001B[0m\u001B[0m\n\u001B[0;32m---> 14\u001B[0;31m     \u001B[0mcallbacks\u001B[0m\u001B[0;34m=\u001B[0m\u001B[0;34m[\u001B[0m\u001B[0mes\u001B[0m\u001B[0;34m,\u001B[0m \u001B[0mrlp\u001B[0m\u001B[0;34m]\u001B[0m\u001B[0;34m\u001B[0m\u001B[0;34m\u001B[0m\u001B[0m\n\u001B[0m\u001B[1;32m     15\u001B[0m )\n",
      "\u001B[0;32m/usr/local/lib/python3.7/dist-packages/keras/utils/traceback_utils.py\u001B[0m in \u001B[0;36merror_handler\u001B[0;34m(*args, **kwargs)\u001B[0m\n\u001B[1;32m     62\u001B[0m     \u001B[0mfiltered_tb\u001B[0m \u001B[0;34m=\u001B[0m \u001B[0;32mNone\u001B[0m\u001B[0;34m\u001B[0m\u001B[0;34m\u001B[0m\u001B[0m\n\u001B[1;32m     63\u001B[0m     \u001B[0;32mtry\u001B[0m\u001B[0;34m:\u001B[0m\u001B[0;34m\u001B[0m\u001B[0;34m\u001B[0m\u001B[0m\n\u001B[0;32m---> 64\u001B[0;31m       \u001B[0;32mreturn\u001B[0m \u001B[0mfn\u001B[0m\u001B[0;34m(\u001B[0m\u001B[0;34m*\u001B[0m\u001B[0margs\u001B[0m\u001B[0;34m,\u001B[0m \u001B[0;34m**\u001B[0m\u001B[0mkwargs\u001B[0m\u001B[0;34m)\u001B[0m\u001B[0;34m\u001B[0m\u001B[0;34m\u001B[0m\u001B[0m\n\u001B[0m\u001B[1;32m     65\u001B[0m     \u001B[0;32mexcept\u001B[0m \u001B[0mException\u001B[0m \u001B[0;32mas\u001B[0m \u001B[0me\u001B[0m\u001B[0;34m:\u001B[0m  \u001B[0;31m# pylint: disable=broad-except\u001B[0m\u001B[0;34m\u001B[0m\u001B[0;34m\u001B[0m\u001B[0m\n\u001B[1;32m     66\u001B[0m       \u001B[0mfiltered_tb\u001B[0m \u001B[0;34m=\u001B[0m \u001B[0m_process_traceback_frames\u001B[0m\u001B[0;34m(\u001B[0m\u001B[0me\u001B[0m\u001B[0;34m.\u001B[0m\u001B[0m__traceback__\u001B[0m\u001B[0;34m)\u001B[0m\u001B[0;34m\u001B[0m\u001B[0;34m\u001B[0m\u001B[0m\n",
      "\u001B[0;32m/usr/local/lib/python3.7/dist-packages/keras/engine/training.py\u001B[0m in \u001B[0;36mfit\u001B[0;34m(self, x, y, batch_size, epochs, verbose, callbacks, validation_split, validation_data, shuffle, class_weight, sample_weight, initial_epoch, steps_per_epoch, validation_steps, validation_batch_size, validation_freq, max_queue_size, workers, use_multiprocessing)\u001B[0m\n\u001B[1;32m   1382\u001B[0m                 _r=1):\n\u001B[1;32m   1383\u001B[0m               \u001B[0mcallbacks\u001B[0m\u001B[0;34m.\u001B[0m\u001B[0mon_train_batch_begin\u001B[0m\u001B[0;34m(\u001B[0m\u001B[0mstep\u001B[0m\u001B[0;34m)\u001B[0m\u001B[0;34m\u001B[0m\u001B[0;34m\u001B[0m\u001B[0m\n\u001B[0;32m-> 1384\u001B[0;31m               \u001B[0mtmp_logs\u001B[0m \u001B[0;34m=\u001B[0m \u001B[0mself\u001B[0m\u001B[0;34m.\u001B[0m\u001B[0mtrain_function\u001B[0m\u001B[0;34m(\u001B[0m\u001B[0miterator\u001B[0m\u001B[0;34m)\u001B[0m\u001B[0;34m\u001B[0m\u001B[0;34m\u001B[0m\u001B[0m\n\u001B[0m\u001B[1;32m   1385\u001B[0m               \u001B[0;32mif\u001B[0m \u001B[0mdata_handler\u001B[0m\u001B[0;34m.\u001B[0m\u001B[0mshould_sync\u001B[0m\u001B[0;34m:\u001B[0m\u001B[0;34m\u001B[0m\u001B[0;34m\u001B[0m\u001B[0m\n\u001B[1;32m   1386\u001B[0m                 \u001B[0mcontext\u001B[0m\u001B[0;34m.\u001B[0m\u001B[0masync_wait\u001B[0m\u001B[0;34m(\u001B[0m\u001B[0;34m)\u001B[0m\u001B[0;34m\u001B[0m\u001B[0;34m\u001B[0m\u001B[0m\n",
      "\u001B[0;32m/usr/local/lib/python3.7/dist-packages/tensorflow/python/util/traceback_utils.py\u001B[0m in \u001B[0;36merror_handler\u001B[0;34m(*args, **kwargs)\u001B[0m\n\u001B[1;32m    148\u001B[0m     \u001B[0mfiltered_tb\u001B[0m \u001B[0;34m=\u001B[0m \u001B[0;32mNone\u001B[0m\u001B[0;34m\u001B[0m\u001B[0;34m\u001B[0m\u001B[0m\n\u001B[1;32m    149\u001B[0m     \u001B[0;32mtry\u001B[0m\u001B[0;34m:\u001B[0m\u001B[0;34m\u001B[0m\u001B[0;34m\u001B[0m\u001B[0m\n\u001B[0;32m--> 150\u001B[0;31m       \u001B[0;32mreturn\u001B[0m \u001B[0mfn\u001B[0m\u001B[0;34m(\u001B[0m\u001B[0;34m*\u001B[0m\u001B[0margs\u001B[0m\u001B[0;34m,\u001B[0m \u001B[0;34m**\u001B[0m\u001B[0mkwargs\u001B[0m\u001B[0;34m)\u001B[0m\u001B[0;34m\u001B[0m\u001B[0;34m\u001B[0m\u001B[0m\n\u001B[0m\u001B[1;32m    151\u001B[0m     \u001B[0;32mexcept\u001B[0m \u001B[0mException\u001B[0m \u001B[0;32mas\u001B[0m \u001B[0me\u001B[0m\u001B[0;34m:\u001B[0m\u001B[0;34m\u001B[0m\u001B[0;34m\u001B[0m\u001B[0m\n\u001B[1;32m    152\u001B[0m       \u001B[0mfiltered_tb\u001B[0m \u001B[0;34m=\u001B[0m \u001B[0m_process_traceback_frames\u001B[0m\u001B[0;34m(\u001B[0m\u001B[0me\u001B[0m\u001B[0;34m.\u001B[0m\u001B[0m__traceback__\u001B[0m\u001B[0;34m)\u001B[0m\u001B[0;34m\u001B[0m\u001B[0;34m\u001B[0m\u001B[0m\n",
      "\u001B[0;32m/usr/local/lib/python3.7/dist-packages/tensorflow/python/eager/def_function.py\u001B[0m in \u001B[0;36m__call__\u001B[0;34m(self, *args, **kwds)\u001B[0m\n\u001B[1;32m    913\u001B[0m \u001B[0;34m\u001B[0m\u001B[0m\n\u001B[1;32m    914\u001B[0m       \u001B[0;32mwith\u001B[0m \u001B[0mOptionalXlaContext\u001B[0m\u001B[0;34m(\u001B[0m\u001B[0mself\u001B[0m\u001B[0;34m.\u001B[0m\u001B[0m_jit_compile\u001B[0m\u001B[0;34m)\u001B[0m\u001B[0;34m:\u001B[0m\u001B[0;34m\u001B[0m\u001B[0;34m\u001B[0m\u001B[0m\n\u001B[0;32m--> 915\u001B[0;31m         \u001B[0mresult\u001B[0m \u001B[0;34m=\u001B[0m \u001B[0mself\u001B[0m\u001B[0;34m.\u001B[0m\u001B[0m_call\u001B[0m\u001B[0;34m(\u001B[0m\u001B[0;34m*\u001B[0m\u001B[0margs\u001B[0m\u001B[0;34m,\u001B[0m \u001B[0;34m**\u001B[0m\u001B[0mkwds\u001B[0m\u001B[0;34m)\u001B[0m\u001B[0;34m\u001B[0m\u001B[0;34m\u001B[0m\u001B[0m\n\u001B[0m\u001B[1;32m    916\u001B[0m \u001B[0;34m\u001B[0m\u001B[0m\n\u001B[1;32m    917\u001B[0m       \u001B[0mnew_tracing_count\u001B[0m \u001B[0;34m=\u001B[0m \u001B[0mself\u001B[0m\u001B[0;34m.\u001B[0m\u001B[0mexperimental_get_tracing_count\u001B[0m\u001B[0;34m(\u001B[0m\u001B[0;34m)\u001B[0m\u001B[0;34m\u001B[0m\u001B[0;34m\u001B[0m\u001B[0m\n",
      "\u001B[0;32m/usr/local/lib/python3.7/dist-packages/tensorflow/python/eager/def_function.py\u001B[0m in \u001B[0;36m_call\u001B[0;34m(self, *args, **kwds)\u001B[0m\n\u001B[1;32m    945\u001B[0m       \u001B[0;31m# In this case we have created variables on the first call, so we run the\u001B[0m\u001B[0;34m\u001B[0m\u001B[0;34m\u001B[0m\u001B[0;34m\u001B[0m\u001B[0m\n\u001B[1;32m    946\u001B[0m       \u001B[0;31m# defunned version which is guaranteed to never create variables.\u001B[0m\u001B[0;34m\u001B[0m\u001B[0;34m\u001B[0m\u001B[0;34m\u001B[0m\u001B[0m\n\u001B[0;32m--> 947\u001B[0;31m       \u001B[0;32mreturn\u001B[0m \u001B[0mself\u001B[0m\u001B[0;34m.\u001B[0m\u001B[0m_stateless_fn\u001B[0m\u001B[0;34m(\u001B[0m\u001B[0;34m*\u001B[0m\u001B[0margs\u001B[0m\u001B[0;34m,\u001B[0m \u001B[0;34m**\u001B[0m\u001B[0mkwds\u001B[0m\u001B[0;34m)\u001B[0m  \u001B[0;31m# pylint: disable=not-callable\u001B[0m\u001B[0;34m\u001B[0m\u001B[0;34m\u001B[0m\u001B[0m\n\u001B[0m\u001B[1;32m    948\u001B[0m     \u001B[0;32melif\u001B[0m \u001B[0mself\u001B[0m\u001B[0;34m.\u001B[0m\u001B[0m_stateful_fn\u001B[0m \u001B[0;32mis\u001B[0m \u001B[0;32mnot\u001B[0m \u001B[0;32mNone\u001B[0m\u001B[0;34m:\u001B[0m\u001B[0;34m\u001B[0m\u001B[0;34m\u001B[0m\u001B[0m\n\u001B[1;32m    949\u001B[0m       \u001B[0;31m# Release the lock early so that multiple threads can perform the call\u001B[0m\u001B[0;34m\u001B[0m\u001B[0;34m\u001B[0m\u001B[0;34m\u001B[0m\u001B[0m\n",
      "\u001B[0;32m/usr/local/lib/python3.7/dist-packages/tensorflow/python/eager/function.py\u001B[0m in \u001B[0;36m__call__\u001B[0;34m(self, *args, **kwargs)\u001B[0m\n\u001B[1;32m   2955\u001B[0m        filtered_flat_args) = self._maybe_define_function(args, kwargs)\n\u001B[1;32m   2956\u001B[0m     return graph_function._call_flat(\n\u001B[0;32m-> 2957\u001B[0;31m         filtered_flat_args, captured_inputs=graph_function.captured_inputs)  # pylint: disable=protected-access\n\u001B[0m\u001B[1;32m   2958\u001B[0m \u001B[0;34m\u001B[0m\u001B[0m\n\u001B[1;32m   2959\u001B[0m   \u001B[0;34m@\u001B[0m\u001B[0mproperty\u001B[0m\u001B[0;34m\u001B[0m\u001B[0;34m\u001B[0m\u001B[0m\n",
      "\u001B[0;32m/usr/local/lib/python3.7/dist-packages/tensorflow/python/eager/function.py\u001B[0m in \u001B[0;36m_call_flat\u001B[0;34m(self, args, captured_inputs, cancellation_manager)\u001B[0m\n\u001B[1;32m   1852\u001B[0m       \u001B[0;31m# No tape is watching; skip to running the function.\u001B[0m\u001B[0;34m\u001B[0m\u001B[0;34m\u001B[0m\u001B[0;34m\u001B[0m\u001B[0m\n\u001B[1;32m   1853\u001B[0m       return self._build_call_outputs(self._inference_function.call(\n\u001B[0;32m-> 1854\u001B[0;31m           ctx, args, cancellation_manager=cancellation_manager))\n\u001B[0m\u001B[1;32m   1855\u001B[0m     forward_backward = self._select_forward_and_backward_functions(\n\u001B[1;32m   1856\u001B[0m         \u001B[0margs\u001B[0m\u001B[0;34m,\u001B[0m\u001B[0;34m\u001B[0m\u001B[0;34m\u001B[0m\u001B[0m\n",
      "\u001B[0;32m/usr/local/lib/python3.7/dist-packages/tensorflow/python/eager/function.py\u001B[0m in \u001B[0;36mcall\u001B[0;34m(self, ctx, args, cancellation_manager)\u001B[0m\n\u001B[1;32m    502\u001B[0m               \u001B[0minputs\u001B[0m\u001B[0;34m=\u001B[0m\u001B[0margs\u001B[0m\u001B[0;34m,\u001B[0m\u001B[0;34m\u001B[0m\u001B[0;34m\u001B[0m\u001B[0m\n\u001B[1;32m    503\u001B[0m               \u001B[0mattrs\u001B[0m\u001B[0;34m=\u001B[0m\u001B[0mattrs\u001B[0m\u001B[0;34m,\u001B[0m\u001B[0;34m\u001B[0m\u001B[0;34m\u001B[0m\u001B[0m\n\u001B[0;32m--> 504\u001B[0;31m               ctx=ctx)\n\u001B[0m\u001B[1;32m    505\u001B[0m         \u001B[0;32melse\u001B[0m\u001B[0;34m:\u001B[0m\u001B[0;34m\u001B[0m\u001B[0;34m\u001B[0m\u001B[0m\n\u001B[1;32m    506\u001B[0m           outputs = execute.execute_with_cancellation(\n",
      "\u001B[0;32m/usr/local/lib/python3.7/dist-packages/tensorflow/python/eager/execute.py\u001B[0m in \u001B[0;36mquick_execute\u001B[0;34m(op_name, num_outputs, inputs, attrs, ctx, name)\u001B[0m\n\u001B[1;32m     53\u001B[0m     \u001B[0mctx\u001B[0m\u001B[0;34m.\u001B[0m\u001B[0mensure_initialized\u001B[0m\u001B[0;34m(\u001B[0m\u001B[0;34m)\u001B[0m\u001B[0;34m\u001B[0m\u001B[0;34m\u001B[0m\u001B[0m\n\u001B[1;32m     54\u001B[0m     tensors = pywrap_tfe.TFE_Py_Execute(ctx._handle, device_name, op_name,\n\u001B[0;32m---> 55\u001B[0;31m                                         inputs, attrs, num_outputs)\n\u001B[0m\u001B[1;32m     56\u001B[0m   \u001B[0;32mexcept\u001B[0m \u001B[0mcore\u001B[0m\u001B[0;34m.\u001B[0m\u001B[0m_NotOkStatusException\u001B[0m \u001B[0;32mas\u001B[0m \u001B[0me\u001B[0m\u001B[0;34m:\u001B[0m\u001B[0;34m\u001B[0m\u001B[0;34m\u001B[0m\u001B[0m\n\u001B[1;32m     57\u001B[0m     \u001B[0;32mif\u001B[0m \u001B[0mname\u001B[0m \u001B[0;32mis\u001B[0m \u001B[0;32mnot\u001B[0m \u001B[0;32mNone\u001B[0m\u001B[0;34m:\u001B[0m\u001B[0;34m\u001B[0m\u001B[0;34m\u001B[0m\u001B[0m\n",
      "\u001B[0;31mKeyboardInterrupt\u001B[0m: "
     ]
    }
   ]
  },
  {
   "cell_type": "code",
   "execution_count": null,
   "outputs": [],
   "source": [
    "es = callbacks.EarlyStopping(\n",
    "    monitor='val_loss', patience=5, verbose=1, restore_best_weights=True\n",
    ")\n",
    "\n",
    "rlp = callbacks.ReduceLROnPlateau(\n",
    "    monitor='val_loss', factor=0.5, patience=2, min_lr=1e-10, mode='min', verbose=1\n",
    ")\n",
    "\n",
    "history = model.fit(\n",
    "    X_train, y_train,\n",
    "    validation_data=(X_dev, y_dev),\n",
    "    batch_size=64, \n",
    "    epochs=100,\n",
    "    callbacks=[es, rlp]\n",
    ")"
   ],
   "metadata": {
    "collapsed": false,
    "pycharm": {
     "name": "#%%\n"
    }
   }
  }
 ]
}